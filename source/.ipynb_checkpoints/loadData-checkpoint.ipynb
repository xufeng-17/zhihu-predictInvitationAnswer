{
 "cells": [
  {
   "cell_type": "code",
   "execution_count": 13,
   "metadata": {},
   "outputs": [
    {
     "name": "stdout",
     "output_type": "stream",
     "text": [
      "answer_info_0926.txt             question_info_0926.txt\n",
      "invite_info_0926.txt             single_word_vectors_64d.txt\n",
      "invite_info_evaluate_1_0926.txt  topic_vectors_64d.txt\n",
      "member_info_0926.txt             word_vectors_64d.txt\n"
     ]
    }
   ],
   "source": [
    "ls data/data_set_0926\n"
   ]
  },
  {
   "cell_type": "code",
   "execution_count": 14,
   "metadata": {},
   "outputs": [],
   "source": [
    "import pandas as pd"
   ]
  },
  {
   "cell_type": "code",
   "execution_count": 2,
   "metadata": {},
   "outputs": [
    {
     "name": "stdout",
     "output_type": "stream",
     "text": [
      "/Users/xufeng/learning/03专家发现\n"
     ]
    }
   ],
   "source": [
    "single_word_vectors_64d_path = 'data/data_set_0926/single_word_vectors_64d.txt'\n",
    "single_word_vectors_64d = pd.read_csv(single_word_vectors_64d,header=None, sep='\\t', nrows=10)"
   ]
  },
  {
   "cell_type": "code",
   "execution_count": 3,
   "metadata": {},
   "outputs": [
    {
     "name": "stdout",
     "output_type": "stream",
     "text": [
      "\u001b[1m\u001b[36mdata\u001b[m\u001b[m/      readme.md  \u001b[1m\u001b[36msource\u001b[m\u001b[m/\n"
     ]
    }
   ],
   "source": []
  },
  {
   "cell_type": "code",
   "execution_count": null,
   "metadata": {},
   "outputs": [],
   "source": []
  }
 ],
 "metadata": {
  "kernelspec": {
   "display_name": "Python 3",
   "language": "python",
   "name": "python3"
  },
  "language_info": {
   "codemirror_mode": {
    "name": "ipython",
    "version": 3
   },
   "file_extension": ".py",
   "mimetype": "text/x-python",
   "name": "python",
   "nbconvert_exporter": "python",
   "pygments_lexer": "ipython3",
   "version": "3.7.3"
  }
 },
 "nbformat": 4,
 "nbformat_minor": 4
}
