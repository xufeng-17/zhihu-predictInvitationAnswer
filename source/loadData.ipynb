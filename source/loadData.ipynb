{
 "cells": [
  {
   "cell_type": "code",
   "execution_count": 13,
   "metadata": {},
   "outputs": [
    {
     "name": "stdout",
     "output_type": "stream",
     "text": [
      "answer_info_0926.txt             question_info_0926.txt\n",
      "invite_info_0926.txt             single_word_vectors_64d.txt\n",
      "invite_info_evaluate_1_0926.txt  topic_vectors_64d.txt\n",
      "member_info_0926.txt             word_vectors_64d.txt\n"
     ]
    }
   ],
   "source": [
    "ls data/data_set_0926\n"
   ]
  },
  {
   "cell_type": "code",
   "execution_count": 14,
   "metadata": {},
   "outputs": [],
   "source": [
    "import pandas as pd"
   ]
  },
  {
   "cell_type": "code",
   "execution_count": 23,
   "metadata": {},
   "outputs": [
    {
     "data": {
      "text/html": [
       "<div>\n",
       "<style scoped>\n",
       "    .dataframe tbody tr th:only-of-type {\n",
       "        vertical-align: middle;\n",
       "    }\n",
       "\n",
       "    .dataframe tbody tr th {\n",
       "        vertical-align: top;\n",
       "    }\n",
       "\n",
       "    .dataframe thead th {\n",
       "        text-align: right;\n",
       "    }\n",
       "</style>\n",
       "<table border=\"1\" class=\"dataframe\">\n",
       "  <thead>\n",
       "    <tr style=\"text-align: right;\">\n",
       "      <th></th>\n",
       "      <th>0</th>\n",
       "      <th>1</th>\n",
       "    </tr>\n",
       "  </thead>\n",
       "  <tbody>\n",
       "    <tr>\n",
       "      <th>0</th>\n",
       "      <td>SW1</td>\n",
       "      <td>-0.985937 0.11307016 0.012898494 -0.6822068 -0...</td>\n",
       "    </tr>\n",
       "    <tr>\n",
       "      <th>1</th>\n",
       "      <td>SW2</td>\n",
       "      <td>-0.3367663 0.039051324 0.8155926 0.8351733 -0....</td>\n",
       "    </tr>\n",
       "    <tr>\n",
       "      <th>2</th>\n",
       "      <td>SW3</td>\n",
       "      <td>0.3074205 -1.0977745 0.7528213 0.6299011 0.197...</td>\n",
       "    </tr>\n",
       "    <tr>\n",
       "      <th>3</th>\n",
       "      <td>SW4</td>\n",
       "      <td>0.61494493 0.5444025 2.0673835 3.2731245 0.779...</td>\n",
       "    </tr>\n",
       "    <tr>\n",
       "      <th>4</th>\n",
       "      <td>SW5</td>\n",
       "      <td>-1.0922098 -2.088952 -1.9467407 -0.095274135 0...</td>\n",
       "    </tr>\n",
       "    <tr>\n",
       "      <th>5</th>\n",
       "      <td>SW6</td>\n",
       "      <td>1.8850589 -1.3846935 -1.3290175 -2.2212234 1.6...</td>\n",
       "    </tr>\n",
       "    <tr>\n",
       "      <th>6</th>\n",
       "      <td>SW7</td>\n",
       "      <td>3.5464244 1.6036447 -2.5293458 3.1333735 -2.04...</td>\n",
       "    </tr>\n",
       "    <tr>\n",
       "      <th>7</th>\n",
       "      <td>SW8</td>\n",
       "      <td>-2.2662137 -1.9574718 -0.13302466 -4.3436356 1...</td>\n",
       "    </tr>\n",
       "    <tr>\n",
       "      <th>8</th>\n",
       "      <td>SW9</td>\n",
       "      <td>-1.8233486 2.0506058 -3.2515428 -1.1880394 -1....</td>\n",
       "    </tr>\n",
       "    <tr>\n",
       "      <th>9</th>\n",
       "      <td>SW10</td>\n",
       "      <td>0.48556754 -0.3782651 2.2997975 2.261273 0.408...</td>\n",
       "    </tr>\n",
       "  </tbody>\n",
       "</table>\n",
       "</div>"
      ],
      "text/plain": [
       "      0                                                  1\n",
       "0   SW1  -0.985937 0.11307016 0.012898494 -0.6822068 -0...\n",
       "1   SW2  -0.3367663 0.039051324 0.8155926 0.8351733 -0....\n",
       "2   SW3  0.3074205 -1.0977745 0.7528213 0.6299011 0.197...\n",
       "3   SW4  0.61494493 0.5444025 2.0673835 3.2731245 0.779...\n",
       "4   SW5  -1.0922098 -2.088952 -1.9467407 -0.095274135 0...\n",
       "5   SW6  1.8850589 -1.3846935 -1.3290175 -2.2212234 1.6...\n",
       "6   SW7  3.5464244 1.6036447 -2.5293458 3.1333735 -2.04...\n",
       "7   SW8  -2.2662137 -1.9574718 -0.13302466 -4.3436356 1...\n",
       "8   SW9  -1.8233486 2.0506058 -3.2515428 -1.1880394 -1....\n",
       "9  SW10  0.48556754 -0.3782651 2.2997975 2.261273 0.408..."
      ]
     },
     "execution_count": 23,
     "metadata": {},
     "output_type": "execute_result"
    }
   ],
   "source": [
    "single_word_vectors_64d_path = 'data/data_set_0926/single_word_vectors_64d.txt'\n",
    "single_word_vectors_64d = pd.read_csv(single_word_vectors_64d_path,header=None, sep='\\t', nrows=10)\n",
    "single_word_vectors_64d"
   ]
  },
  {
   "cell_type": "code",
   "execution_count": 21,
   "metadata": {},
   "outputs": [
    {
     "data": {
      "text/plain": [
       "0    [-0.985937, 0.11307016, 0.012898494, -0.682206...\n",
       "1    [-0.3367663, 0.039051324, 0.8155926, 0.8351733...\n",
       "2    [0.3074205, -1.0977745, 0.7528213, 0.6299011, ...\n",
       "3    [0.61494493, 0.5444025, 2.0673835, 3.2731245, ...\n",
       "4    [-1.0922098, -2.088952, -1.9467407, -0.0952741...\n",
       "5    [1.8850589, -1.3846935, -1.3290175, -2.2212234...\n",
       "6    [3.5464244, 1.6036447, -2.5293458, 3.1333735, ...\n",
       "7    [-2.2662137, -1.9574718, -0.13302466, -4.34363...\n",
       "8    [-1.8233486, 2.0506058, -3.2515428, -1.1880394...\n",
       "9    [0.48556754, -0.3782651, 2.2997975, 2.261273, ...\n",
       "Name: 1, dtype: object"
      ]
     },
     "execution_count": 21,
     "metadata": {},
     "output_type": "execute_result"
    }
   ],
   "source": [
    "single_word_vectors_64d[1].apply(lambda x: x.split(' '))"
   ]
  },
  {
   "cell_type": "code",
   "execution_count": null,
   "metadata": {},
   "outputs": [],
   "source": []
  }
 ],
 "metadata": {
  "kernelspec": {
   "display_name": "Python 3",
   "language": "python",
   "name": "python3"
  },
  "language_info": {
   "codemirror_mode": {
    "name": "ipython",
    "version": 3
   },
   "file_extension": ".py",
   "mimetype": "text/x-python",
   "name": "python",
   "nbconvert_exporter": "python",
   "pygments_lexer": "ipython3",
   "version": "3.7.3"
  }
 },
 "nbformat": 4,
 "nbformat_minor": 4
}
